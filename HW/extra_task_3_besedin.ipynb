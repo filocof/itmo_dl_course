{
  "nbformat": 4,
  "nbformat_minor": 0,
  "metadata": {
    "colab": {
      "provenance": [],
      "machine_shape": "hm",
      "gpuType": "L4"
    },
    "kernelspec": {
      "name": "python3",
      "display_name": "Python 3"
    },
    "language_info": {
      "name": "python"
    },
    "accelerator": "GPU"
  },
  "cells": [
    {
      "cell_type": "markdown",
      "source": [
        "# 1. Импорт необходимых библиотек"
      ],
      "metadata": {
        "id": "-J9QYA5Frdd7"
      }
    },
    {
      "cell_type": "code",
      "source": [
        "import torch\n",
        "import torch.nn as nn\n",
        "import torch.optim as optim\n",
        "import torchvision\n",
        "import torchvision.transforms as transforms\n",
        "\n",
        "import numpy as np\n",
        "import random\n",
        "from torch.utils.data import DataLoader, random_split\n",
        "from tqdm import tqdm\n",
        "\n",
        "import matplotlib.pyplot as plt\n",
        "%matplotlib inline"
      ],
      "metadata": {
        "id": "nRTpfpX0poby"
      },
      "execution_count": null,
      "outputs": []
    },
    {
      "cell_type": "markdown",
      "source": [
        "# 2. Фиксация random_state для воспроизводимости"
      ],
      "metadata": {
        "id": "tZIgJRreraGm"
      }
    },
    {
      "cell_type": "code",
      "source": [
        "# Фиксируем все основные \"сиды\": Python, NumPy и PyTorch (CPU/GPU).\n",
        "def seed_everything(seed: int = 42):\n",
        "    random.seed(seed)\n",
        "    np.random.seed(seed)\n",
        "    torch.manual_seed(seed)\n",
        "    torch.cuda.manual_seed_all(seed)\n",
        "\n",
        "seed_everything(42)"
      ],
      "metadata": {
        "id": "MKlDjm6eprjO"
      },
      "execution_count": 2,
      "outputs": []
    },
    {
      "cell_type": "markdown",
      "source": [
        "#  3. Загрузка и подготовка данных (CIFAR100)\n",
        "\n",
        "### **Шаги**:\n",
        "### 1. Определим `transform` (преобразования данных).\n",
        "### 2. Загрузим train и test части датасета.\n",
        "### 3. Отделим валидационную часть от обучающей."
      ],
      "metadata": {
        "id": "rVRdLnrWpuLU"
      }
    },
    {
      "cell_type": "code",
      "source": [
        "# Трансформации (аугментации) для обучающей выборки\n",
        "train_transform = transforms.Compose([\n",
        "    transforms.RandomCrop(32, padding=4),\n",
        "    transforms.RandomHorizontalFlip(),\n",
        "    transforms.ToTensor(),\n",
        "    transforms.Normalize((0.5071, 0.4867, 0.4408), (0.2675, 0.2565, 0.2761)),\n",
        "])\n",
        "\n",
        "# Трансформации для валидации/теста (без аугментаций, только нормализация)\n",
        "test_transform = transforms.Compose([\n",
        "    transforms.ToTensor(),\n",
        "    transforms.Normalize((0.5071, 0.4867, 0.4408), (0.2675, 0.2565, 0.2761)),\n",
        "])\n",
        "\n",
        "# Загрузка train/test датасетов\n",
        "train_dataset_full = torchvision.datasets.CIFAR100(\n",
        "    root='./data',\n",
        "    train=True,\n",
        "    download=True,\n",
        "    transform=train_transform\n",
        ")\n",
        "\n",
        "test_dataset = torchvision.datasets.CIFAR100(\n",
        "    root='./data',\n",
        "    train=False,\n",
        "    download=True,\n",
        "    transform=test_transform\n",
        ")\n",
        "\n",
        "# Разделение на train и validation\n",
        "train_size = int(0.9 * len(train_dataset_full))  # 90% под train\n",
        "val_size = len(train_dataset_full) - train_size   # 10% под validation\n",
        "\n",
        "train_dataset, val_dataset = random_split(train_dataset_full, [train_size, val_size],\n",
        "                                          generator=torch.Generator().manual_seed(42))\n",
        "\n",
        "# При разделении на валидационную часть используем другие трансформации (без аугментаций)\n",
        "val_dataset.dataset.transform = test_transform\n",
        "\n",
        "# Создание DataLoader'ов\n",
        "BATCH_SIZE = 128\n",
        "\n",
        "train_loader = DataLoader(train_dataset, batch_size=BATCH_SIZE, shuffle=True, num_workers=2)\n",
        "val_loader = DataLoader(val_dataset, batch_size=BATCH_SIZE, shuffle=False, num_workers=2)\n",
        "test_loader = DataLoader(test_dataset, batch_size=BATCH_SIZE, shuffle=False, num_workers=2)\n",
        "\n",
        "# Посмотрим на размеры полученных выборок\n",
        "print(f'Размер обучающей выборки: {len(train_dataset)}')\n",
        "print(f'Размер валидационной выборки: {len(val_dataset)}')\n",
        "print(f'Размер тестовой выборки: {len(test_dataset)}')"
      ],
      "metadata": {
        "colab": {
          "base_uri": "https://localhost:8080/"
        },
        "id": "5SCokvFbp3Tw",
        "outputId": "b097c59a-20a9-4263-9086-a35e3b877791"
      },
      "execution_count": 3,
      "outputs": [
        {
          "output_type": "stream",
          "name": "stdout",
          "text": [
            "Files already downloaded and verified\n",
            "Files already downloaded and verified\n",
            "Размер обучающей выборки: 45000\n",
            "Размер валидационной выборки: 5000\n",
            "Размер тестовой выборки: 10000\n"
          ]
        }
      ]
    },
    {
      "cell_type": "markdown",
      "source": [
        "# 4. Определение архитектуры AlexNet"
      ],
      "metadata": {
        "id": "cIcUUG7dp48Y"
      }
    },
    {
      "cell_type": "markdown",
      "source": [
        "### Для задачи CIFAR100 (размер входного изображения 32x32) мы адаптируем свёрточные слои и пулы  под меньшее разрешение, сохраняя общую логику слоёв."
      ],
      "metadata": {
        "id": "v5-qy0p5p9QJ"
      }
    },
    {
      "cell_type": "code",
      "source": [
        "class AlexNet(nn.Module):\n",
        "    def __init__(self, num_classes=100):\n",
        "        super(AlexNet, self).__init__()\n",
        "\n",
        "        # Архитектура свёрточных слоёв (адаптированная под 32x32)\n",
        "        self.features = nn.Sequential(\n",
        "            nn.Conv2d(3, 64, kernel_size=3, stride=1, padding=1),\n",
        "            nn.ReLU(inplace=True),\n",
        "            nn.MaxPool2d(kernel_size=2, stride=2),   # выход 16x16\n",
        "\n",
        "            nn.Conv2d(64, 192, kernel_size=3, padding=1),\n",
        "            nn.ReLU(inplace=True),\n",
        "            nn.MaxPool2d(kernel_size=2, stride=2),   # выход 8x8\n",
        "\n",
        "            nn.Conv2d(192, 384, kernel_size=3, padding=1),\n",
        "            nn.ReLU(inplace=True),\n",
        "\n",
        "            nn.Conv2d(384, 256, kernel_size=3, padding=1),\n",
        "            nn.ReLU(inplace=True),\n",
        "\n",
        "            nn.Conv2d(256, 256, kernel_size=3, padding=1),\n",
        "            nn.ReLU(inplace=True),\n",
        "            nn.MaxPool2d(kernel_size=2, stride=2)    # выход 4x4\n",
        "        )\n",
        "\n",
        "        # Полносвязные слои\n",
        "        self.classifier = nn.Sequential(\n",
        "            nn.Dropout(p=0.5),\n",
        "            nn.Linear(256 * 4 * 4, 4096),\n",
        "            nn.ReLU(inplace=True),\n",
        "            nn.Dropout(p=0.5),\n",
        "            nn.Linear(4096, 4096),\n",
        "            nn.ReLU(inplace=True),\n",
        "            nn.Linear(4096, num_classes)\n",
        "        )\n",
        "\n",
        "    def forward(self, x):\n",
        "        x = self.features(x)\n",
        "        x = x.view(x.size(0), -1)  # Flatten\n",
        "        x = self.classifier(x)\n",
        "        return x\n",
        "\n",
        "# Проверим, что модель создаётся и вычисляет выход нужной размерности\n",
        "model_test = AlexNet(num_classes=100)\n",
        "x_test = torch.randn(2, 3, 32, 32)\n",
        "out_test = model_test(x_test)\n",
        "print(\"Выход тестового батча:\", out_test.shape)"
      ],
      "metadata": {
        "colab": {
          "base_uri": "https://localhost:8080/"
        },
        "id": "PWxTuqG2qEqG",
        "outputId": "0dbbfc8f-4336-4147-f80e-ca3d097e24de"
      },
      "execution_count": 4,
      "outputs": [
        {
          "output_type": "stream",
          "name": "stdout",
          "text": [
            "Выход тестового батча: torch.Size([2, 100])\n"
          ]
        }
      ]
    },
    {
      "cell_type": "markdown",
      "source": [
        "\n",
        "# 5. Обучение модели"
      ],
      "metadata": {
        "id": "ngs3CsxzqSTB"
      }
    },
    {
      "cell_type": "markdown",
      "source": [
        "### Определим функцию тренировки на одну эпоху и функцию валидации. Также инициализируем оптимизатор, зададим количество эпох и будем отслеживать динамику loss на train/val."
      ],
      "metadata": {
        "id": "5JwHZdGEqWJ8"
      }
    },
    {
      "cell_type": "code",
      "source": [
        "device = torch.device('cuda' if torch.cuda.is_available() else 'cpu')\n",
        "print(f'Используется устройство: {device}')\n",
        "\n",
        "model = AlexNet(num_classes=100).to(device)\n",
        "\n",
        "# Параметры обучения\n",
        "lr = 0.001\n",
        "EPOCHS = 10\n",
        "\n",
        "optimizer = optim.Adam(model.parameters(), lr=lr)\n",
        "criterion = nn.CrossEntropyLoss()\n",
        "\n",
        "def train_one_epoch(model, optimizer, criterion, dataloader, device):\n",
        "    model.train()\n",
        "    running_loss = 0.0\n",
        "    correct = 0\n",
        "    total = 0\n",
        "\n",
        "    for images, labels in dataloader:\n",
        "        images, labels = images.to(device), labels.to(device)\n",
        "\n",
        "        optimizer.zero_grad()\n",
        "        outputs = model(images)\n",
        "        loss = criterion(outputs, labels)\n",
        "        loss.backward()\n",
        "        optimizer.step()\n",
        "\n",
        "        running_loss += loss.item() * images.size(0)\n",
        "\n",
        "        _, predicted = outputs.max(1)\n",
        "        correct += predicted.eq(labels).sum().item()\n",
        "        total += labels.size(0)\n",
        "\n",
        "    epoch_loss = running_loss / total\n",
        "    epoch_acc = 100. * correct / total\n",
        "    return epoch_loss, epoch_acc\n",
        "\n",
        "def validate(model, criterion, dataloader, device):\n",
        "    model.eval()\n",
        "    running_loss = 0.0\n",
        "    correct = 0\n",
        "    total = 0\n",
        "\n",
        "    with torch.no_grad():\n",
        "        for images, labels in dataloader:\n",
        "            images, labels = images.to(device), labels.to(device)\n",
        "\n",
        "            outputs = model(images)\n",
        "            loss = criterion(outputs, labels)\n",
        "\n",
        "            running_loss += loss.item() * images.size(0)\n",
        "\n",
        "            _, predicted = outputs.max(1)\n",
        "            correct += predicted.eq(labels).sum().item()\n",
        "            total += labels.size(0)\n",
        "\n",
        "    epoch_loss = running_loss / total\n",
        "    epoch_acc = 100. * correct / total\n",
        "    return epoch_loss, epoch_acc\n",
        "\n",
        "train_losses = []\n",
        "val_losses = []\n",
        "train_accs = []\n",
        "val_accs = []\n",
        "\n",
        "for epoch in range(1, EPOCHS + 1):\n",
        "    train_loss, train_acc = train_one_epoch(model, optimizer, criterion, train_loader, device)\n",
        "    val_loss, val_acc = validate(model, criterion, val_loader, device)\n",
        "\n",
        "    train_losses.append(train_loss)\n",
        "    val_losses.append(val_loss)\n",
        "    train_accs.append(train_acc)\n",
        "    val_accs.append(val_acc)\n",
        "\n",
        "    print(f\"Эпоха [{epoch}/{EPOCHS}]: \"\n",
        "          f\"Train Loss: {train_loss:.4f}, Train Acc: {train_acc:.2f}% | \"\n",
        "          f\"Val Loss: {val_loss:.4f}, Val Acc: {val_acc:.2f}%\")\n",
        "\n",
        "# Визуализируем кривые обучения: loss и accuracy\n",
        "\n",
        "plt.figure(figsize=(14, 5))\n",
        "\n",
        "plt.subplot(1, 2, 1)\n",
        "plt.plot(train_losses, label='Train Loss')\n",
        "plt.plot(val_losses, label='Val Loss')\n",
        "plt.title('Loss во время обучения')\n",
        "plt.xlabel('Эпоха')\n",
        "plt.ylabel('Loss')\n",
        "plt.legend()\n",
        "\n",
        "plt.subplot(1, 2, 2)\n",
        "plt.plot(train_accs, label='Train Acc')\n",
        "plt.plot(val_accs, label='Val Acc')\n",
        "plt.title('Accuracy во время обучения')\n",
        "plt.xlabel('Эпоха')\n",
        "plt.ylabel('Accuracy (%)')\n",
        "plt.legend()\n",
        "\n",
        "plt.show()"
      ],
      "metadata": {
        "colab": {
          "base_uri": "https://localhost:8080/"
        },
        "id": "uU2oZxhtqJsC",
        "outputId": "a3955cac-fad5-4f78-8bd0-a6e0645ab586"
      },
      "execution_count": null,
      "outputs": [
        {
          "output_type": "stream",
          "name": "stdout",
          "text": [
            "Используется устройство: cuda\n",
            "Эпоха [1/10]: Train Loss: 4.2167, Train Acc: 4.66% | Val Loss: 3.7874, Val Acc: 9.18%\n",
            "Эпоха [2/10]: Train Loss: 3.5955, Train Acc: 13.64% | Val Loss: 3.3516, Val Acc: 18.92%\n",
            "Эпоха [3/10]: Train Loss: 3.2528, Train Acc: 19.52% | Val Loss: 3.0648, Val Acc: 24.50%\n",
            "Эпоха [4/10]: Train Loss: 2.9905, Train Acc: 24.94% | Val Loss: 2.9015, Val Acc: 27.24%\n",
            "Эпоха [5/10]: Train Loss: 2.7619, Train Acc: 29.11% | Val Loss: 2.7203, Val Acc: 30.26%\n",
            "Эпоха [6/10]: Train Loss: 2.5924, Train Acc: 32.61% | Val Loss: 2.5490, Val Acc: 33.64%\n",
            "Эпоха [7/10]: Train Loss: 2.4386, Train Acc: 35.81% | Val Loss: 2.4422, Val Acc: 37.38%\n",
            "Эпоха [8/10]: Train Loss: 2.3020, Train Acc: 38.36% | Val Loss: 2.4183, Val Acc: 36.76%\n"
          ]
        }
      ]
    },
    {
      "cell_type": "code",
      "execution_count": null,
      "metadata": {
        "id": "HtFecR_HpghX"
      },
      "outputs": [],
      "source": [
        "# Проверим итоговое качество на тестовой выборке (accuracy).\n",
        "test_loss, test_acc = validate(model, criterion, test_loader, device)\n",
        "print(f\"Test Loss: {test_loss:.4f}, Test Accuracy: {test_acc:.2f}%\")\n",
        "\n",
        "\n",
        "\n"
      ]
    },
    {
      "cell_type": "markdown",
      "source": [
        "### Данную модель можно улучшать, меняя гиперпараметры (оптимизатор, lr, регуляризацию, аугментации и т.д.). Но основная цель — воспроизвести базовую архитектуру и продемонстрировать корректную работу — выполнена."
      ],
      "metadata": {
        "id": "Znjo3SCgrP7J"
      }
    },
    {
      "cell_type": "code",
      "source": [],
      "metadata": {
        "id": "mTyY4P8RrASv"
      },
      "execution_count": null,
      "outputs": []
    }
  ]
}